{
 "cells": [
  {
   "cell_type": "code",
   "execution_count": 1,
   "id": "fe593c7b-bbf2-4a41-a0ed-f69c1368fe71",
   "metadata": {},
   "outputs": [],
   "source": [
    "import pandas as pd"
   ]
  },
  {
   "cell_type": "code",
   "execution_count": 3,
   "id": "de2263de-07ca-4fbd-9083-be3cc94797fb",
   "metadata": {},
   "outputs": [],
   "source": [
    "data = pd.read_csv('2018_Central_Park_Squirrel_Census_-_Squirrel_Data_20250323.csv')"
   ]
  },
  {
   "cell_type": "code",
   "execution_count": null,
   "id": "27a6ccd1-b576-4fc1-89e9-e6850e246cd3",
   "metadata": {},
   "outputs": [],
   "source": []
  }
 ],
 "metadata": {
  "kernelspec": {
   "display_name": "Python 3 (ipykernel)",
   "language": "python",
   "name": "python3"
  },
  "language_info": {
   "codemirror_mode": {
    "name": "ipython",
    "version": 3
   },
   "file_extension": ".py",
   "mimetype": "text/x-python",
   "name": "python",
   "nbconvert_exporter": "python",
   "pygments_lexer": "ipython3",
   "version": "3.11.1"
  }
 },
 "nbformat": 4,
 "nbformat_minor": 5
}
